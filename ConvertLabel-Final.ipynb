{
 "cells": [
  {
   "cell_type": "code",
   "execution_count": 1,
   "id": "b7f06db9",
   "metadata": {},
   "outputs": [],
   "source": [
    "import glob\n",
    "import pandas as pd\n",
    "import re"
   ]
  },
  {
   "cell_type": "code",
   "execution_count": 2,
   "id": "dd6d4c35",
   "metadata": {},
   "outputs": [
    {
     "name": "stdout",
     "output_type": "stream",
     "text": [
      "IMG_7528_frames-200Pictures\\frame_001.jpg\n"
     ]
    }
   ],
   "source": [
    "#Get all name of the images\n",
    "dirPathPattern = r\"IMG_7528_frames-200Pictures\\*.jpg*\"\n",
    "result = glob.glob(dirPathPattern)\n",
    "print(result[0])"
   ]
  },
  {
   "cell_type": "code",
   "execution_count": 3,
   "id": "3501ad8d",
   "metadata": {},
   "outputs": [],
   "source": [
    "#read .csv lable files\n",
    "label_df=pd.read_csv(\"via_project_25Sep2022_21h34m_csv.csv\")\n",
    "#same_image=False\n",
    "label_list=[]\n",
    "pixel_list=[]\n",
    "\n",
    "for i in range (0,len(label_df)):\n",
    "    label_list=[]\n",
    "    pixel_list=[]\n",
    "    image_name=label_df[\"filename\"][i]\n",
    "    #if i>=1 and image_name==image_name_last: #if the image is the same one at last one\n",
    "    #    same_image=True\n",
    "    #else:\n",
    "    #    same_image=False\n",
    "    \n",
    "    #print(same_image)\n",
    "    #if same_image is False:\n",
    "    #    label_list=[]\n",
    "    #    pixel_list=[]\n",
    "        \n",
    "    image_name=label_df[\"filename\"][i]\n",
    "    image_name.split(\".\")[0]\n",
    "    pixel_raw=label_df[\"region_shape_attributes\"][i]\n",
    "    \n",
    "    if len(re.findall('\\d+', pixel_raw))==0:\n",
    "        break\n",
    "    \n",
    "    #convert \n",
    "    x=int(re.findall('\\d+', pixel_raw)[0])/1280\n",
    "    y=int(re.findall('\\d+', pixel_raw)[1])/720\n",
    "    width=int(re.findall('\\d+', pixel_raw)[2])/1280\n",
    "    height=int(re.findall('\\d+', pixel_raw)[3])/720\n",
    "    \n",
    "    pixel_list.append(str(x))\n",
    "    pixel_list.append(\" \")\n",
    "    pixel_list.append(str(y))\n",
    "    pixel_list.append(\" \")\n",
    "    pixel_list.append(str(width))\n",
    "    pixel_list.append(\" \")\n",
    "    pixel_list.append(str(height))\n",
    "    pixel_list.append(\"\\n\") # add a line change command\n",
    "    #print(pixel_list)\n",
    "    \n",
    "    \n",
    "    label_raw=label_df[\"region_attributes\"][i]\n",
    "    #print(i)\n",
    "    \n",
    "    label_list.append(re.findall('\\d+', label_raw)[0])\n",
    "    label_list.append(\" \")\n",
    "    #print(label_list)\n",
    "    \n",
    "    \n",
    "    output_file=open(image_name + str(\".txt\"),\"a\") # a is the append mode\n",
    "    output_file.writelines(label_list)\n",
    "    output_file.writelines(pixel_list)\n",
    "    output_file.close()\n",
    "    \n",
    "    image_name_last=label_df[\"filename\"][i]\n"
   ]
  },
  {
   "cell_type": "code",
   "execution_count": 4,
   "id": "4c602a82",
   "metadata": {},
   "outputs": [
    {
     "name": "stdout",
     "output_type": "stream",
     "text": [
      "0\n"
     ]
    }
   ],
   "source": []
  },
  {
   "cell_type": "code",
   "execution_count": 5,
   "id": "6a4a0c13",
   "metadata": {},
   "outputs": [
    {
     "name": "stdout",
     "output_type": "stream",
     "text": [
      "{}\n"
     ]
    }
   ],
   "source": []
  },
  {
   "cell_type": "code",
   "execution_count": 6,
   "id": "aa88663e",
   "metadata": {},
   "outputs": [
    {
     "name": "stdout",
     "output_type": "stream",
     "text": [
      "[]\n"
     ]
    }
   ],
   "source": []
  },
  {
   "cell_type": "code",
   "execution_count": 7,
   "id": "5ca803b2",
   "metadata": {},
   "outputs": [
    {
     "data": {
      "text/plain": [
       "0"
      ]
     },
     "execution_count": 7,
     "metadata": {},
     "output_type": "execute_result"
    }
   ],
   "source": []
  },
  {
   "cell_type": "code",
   "execution_count": null,
   "id": "3935404b",
   "metadata": {},
   "outputs": [],
   "source": []
  }
 ],
 "metadata": {
  "kernelspec": {
   "display_name": "Python 3 (ipykernel)",
   "language": "python",
   "name": "python3"
  },
  "language_info": {
   "codemirror_mode": {
    "name": "ipython",
    "version": 3
   },
   "file_extension": ".py",
   "mimetype": "text/x-python",
   "name": "python",
   "nbconvert_exporter": "python",
   "pygments_lexer": "ipython3",
   "version": "3.9.12"
  }
 },
 "nbformat": 4,
 "nbformat_minor": 5
}
